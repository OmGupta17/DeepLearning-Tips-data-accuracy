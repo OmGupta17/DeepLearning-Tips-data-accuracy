{
 "cells": [
  {
   "cell_type": "code",
   "execution_count": 110,
   "id": "9615d250",
   "metadata": {},
   "outputs": [],
   "source": [
    "import numpy as np\n",
    "import pandas as pd\n",
    "import tensorflow as tf\n",
    "from tensorflow.keras import Sequential\n",
    "from tensorflow.keras.layers import Dense\n",
    "from sklearn.datasets import load_iris\n",
    "from sklearn.model_selection import train_test_split\n",
    "from sklearn.preprocessing import StandardScaler\n",
    "import seaborn as sns"
   ]
  },
  {
   "cell_type": "code",
   "execution_count": 111,
   "id": "fb2c2369",
   "metadata": {},
   "outputs": [
    {
     "data": {
      "text/html": [
       "<div>\n",
       "<style scoped>\n",
       "    .dataframe tbody tr th:only-of-type {\n",
       "        vertical-align: middle;\n",
       "    }\n",
       "\n",
       "    .dataframe tbody tr th {\n",
       "        vertical-align: top;\n",
       "    }\n",
       "\n",
       "    .dataframe thead th {\n",
       "        text-align: right;\n",
       "    }\n",
       "</style>\n",
       "<table border=\"1\" class=\"dataframe\">\n",
       "  <thead>\n",
       "    <tr style=\"text-align: right;\">\n",
       "      <th></th>\n",
       "      <th>total_bill</th>\n",
       "      <th>tip</th>\n",
       "      <th>sex</th>\n",
       "      <th>smoker</th>\n",
       "      <th>day</th>\n",
       "      <th>time</th>\n",
       "      <th>size</th>\n",
       "    </tr>\n",
       "  </thead>\n",
       "  <tbody>\n",
       "    <tr>\n",
       "      <th>0</th>\n",
       "      <td>16.99</td>\n",
       "      <td>1.01</td>\n",
       "      <td>Female</td>\n",
       "      <td>No</td>\n",
       "      <td>Sun</td>\n",
       "      <td>Dinner</td>\n",
       "      <td>2</td>\n",
       "    </tr>\n",
       "    <tr>\n",
       "      <th>1</th>\n",
       "      <td>10.34</td>\n",
       "      <td>1.66</td>\n",
       "      <td>Male</td>\n",
       "      <td>No</td>\n",
       "      <td>Sun</td>\n",
       "      <td>Dinner</td>\n",
       "      <td>3</td>\n",
       "    </tr>\n",
       "    <tr>\n",
       "      <th>2</th>\n",
       "      <td>21.01</td>\n",
       "      <td>3.50</td>\n",
       "      <td>Male</td>\n",
       "      <td>No</td>\n",
       "      <td>Sun</td>\n",
       "      <td>Dinner</td>\n",
       "      <td>3</td>\n",
       "    </tr>\n",
       "    <tr>\n",
       "      <th>3</th>\n",
       "      <td>23.68</td>\n",
       "      <td>3.31</td>\n",
       "      <td>Male</td>\n",
       "      <td>No</td>\n",
       "      <td>Sun</td>\n",
       "      <td>Dinner</td>\n",
       "      <td>2</td>\n",
       "    </tr>\n",
       "    <tr>\n",
       "      <th>4</th>\n",
       "      <td>24.59</td>\n",
       "      <td>3.61</td>\n",
       "      <td>Female</td>\n",
       "      <td>No</td>\n",
       "      <td>Sun</td>\n",
       "      <td>Dinner</td>\n",
       "      <td>4</td>\n",
       "    </tr>\n",
       "  </tbody>\n",
       "</table>\n",
       "</div>"
      ],
      "text/plain": [
       "   total_bill   tip     sex smoker  day    time  size\n",
       "0       16.99  1.01  Female     No  Sun  Dinner     2\n",
       "1       10.34  1.66    Male     No  Sun  Dinner     3\n",
       "2       21.01  3.50    Male     No  Sun  Dinner     3\n",
       "3       23.68  3.31    Male     No  Sun  Dinner     2\n",
       "4       24.59  3.61  Female     No  Sun  Dinner     4"
      ]
     },
     "execution_count": 111,
     "metadata": {},
     "output_type": "execute_result"
    }
   ],
   "source": [
    "data = pd.read_csv('tips.csv')\n",
    "data.head()"
   ]
  },
  {
   "cell_type": "code",
   "execution_count": 112,
   "id": "53ab5b4b",
   "metadata": {},
   "outputs": [],
   "source": [
    "data.drop(['sex' , 'day' , 'time'], axis = 1 , inplace = True)"
   ]
  },
  {
   "cell_type": "code",
   "execution_count": 113,
   "id": "6d5d4e9e",
   "metadata": {},
   "outputs": [],
   "source": [
    "data['smoker'] = data['smoker'].map({'Yes' : 1 , 'No' : 0})"
   ]
  },
  {
   "cell_type": "code",
   "execution_count": 114,
   "id": "12de9dde",
   "metadata": {},
   "outputs": [],
   "source": [
    "X = data.drop('smoker' , axis = 1)"
   ]
  },
  {
   "cell_type": "code",
   "execution_count": 115,
   "id": "562af178",
   "metadata": {},
   "outputs": [],
   "source": [
    "y= data['smoker']"
   ]
  },
  {
   "cell_type": "code",
   "execution_count": 116,
   "id": "13cb3154",
   "metadata": {},
   "outputs": [],
   "source": [
    "X_train, X_test,y_train,y_test=train_test_split(X,y,test_size =0.2, random_state = 42)"
   ]
  },
  {
   "cell_type": "code",
   "execution_count": 117,
   "id": "fadfedd1",
   "metadata": {},
   "outputs": [],
   "source": [
    "scaler = StandardScaler()\n",
    "X_train = scaler.fit_transform(X_train)\n",
    "X_test = scaler.transform(X_test)"
   ]
  },
  {
   "cell_type": "code",
   "execution_count": 118,
   "id": "d861a650",
   "metadata": {},
   "outputs": [],
   "source": [
    "model = Sequential()"
   ]
  },
  {
   "cell_type": "code",
   "execution_count": 119,
   "id": "7f193353",
   "metadata": {},
   "outputs": [],
   "source": [
    "model.add(Dense(8,input_shape=(X_train.shape[1],),activation = 'relu'))"
   ]
  },
  {
   "cell_type": "code",
   "execution_count": 120,
   "id": "1598e96c",
   "metadata": {},
   "outputs": [],
   "source": [
    "model.add(Dense(1 , activation = 'sigmoid'))"
   ]
  },
  {
   "cell_type": "code",
   "execution_count": 121,
   "id": "843b8991",
   "metadata": {},
   "outputs": [],
   "source": [
    "model.compile(optimizer = 'adam' , loss = 'binary_crossentropy', metrics = ['accuracy'])"
   ]
  },
  {
   "cell_type": "code",
   "execution_count": 122,
   "id": "2c353dc0",
   "metadata": {},
   "outputs": [
    {
     "name": "stdout",
     "output_type": "stream",
     "text": [
      "Epoch 1/50\n",
      "5/5 [==============================] - 1s 49ms/step - loss: 0.6921 - accuracy: 0.6026 - val_loss: 0.7370 - val_accuracy: 0.5385\n",
      "Epoch 2/50\n",
      "5/5 [==============================] - 0s 11ms/step - loss: 0.6894 - accuracy: 0.6026 - val_loss: 0.7359 - val_accuracy: 0.5385\n",
      "Epoch 3/50\n",
      "5/5 [==============================] - 0s 10ms/step - loss: 0.6868 - accuracy: 0.6090 - val_loss: 0.7342 - val_accuracy: 0.5385\n",
      "Epoch 4/50\n",
      "5/5 [==============================] - 0s 12ms/step - loss: 0.6848 - accuracy: 0.6154 - val_loss: 0.7327 - val_accuracy: 0.5641\n",
      "Epoch 5/50\n",
      "5/5 [==============================] - 0s 10ms/step - loss: 0.6820 - accuracy: 0.6090 - val_loss: 0.7317 - val_accuracy: 0.5641\n",
      "Epoch 6/50\n",
      "5/5 [==============================] - 0s 10ms/step - loss: 0.6801 - accuracy: 0.6090 - val_loss: 0.7308 - val_accuracy: 0.5641\n",
      "Epoch 7/50\n",
      "5/5 [==============================] - 0s 11ms/step - loss: 0.6781 - accuracy: 0.6218 - val_loss: 0.7297 - val_accuracy: 0.5641\n",
      "Epoch 8/50\n",
      "5/5 [==============================] - 0s 11ms/step - loss: 0.6761 - accuracy: 0.6218 - val_loss: 0.7288 - val_accuracy: 0.5641\n",
      "Epoch 9/50\n",
      "5/5 [==============================] - 0s 13ms/step - loss: 0.6742 - accuracy: 0.6218 - val_loss: 0.7281 - val_accuracy: 0.5641\n",
      "Epoch 10/50\n",
      "5/5 [==============================] - 0s 14ms/step - loss: 0.6721 - accuracy: 0.6218 - val_loss: 0.7274 - val_accuracy: 0.5641\n",
      "Epoch 11/50\n",
      "5/5 [==============================] - 0s 13ms/step - loss: 0.6704 - accuracy: 0.6218 - val_loss: 0.7268 - val_accuracy: 0.5641\n",
      "Epoch 12/50\n",
      "5/5 [==============================] - 0s 14ms/step - loss: 0.6686 - accuracy: 0.6282 - val_loss: 0.7260 - val_accuracy: 0.5641\n",
      "Epoch 13/50\n",
      "5/5 [==============================] - 0s 15ms/step - loss: 0.6666 - accuracy: 0.6282 - val_loss: 0.7252 - val_accuracy: 0.5641\n",
      "Epoch 14/50\n",
      "5/5 [==============================] - 0s 15ms/step - loss: 0.6652 - accuracy: 0.6282 - val_loss: 0.7248 - val_accuracy: 0.5641\n",
      "Epoch 15/50\n",
      "5/5 [==============================] - 0s 13ms/step - loss: 0.6635 - accuracy: 0.6282 - val_loss: 0.7242 - val_accuracy: 0.5641\n",
      "Epoch 16/50\n",
      "5/5 [==============================] - 0s 14ms/step - loss: 0.6619 - accuracy: 0.6282 - val_loss: 0.7237 - val_accuracy: 0.5641\n",
      "Epoch 17/50\n",
      "5/5 [==============================] - 0s 14ms/step - loss: 0.6604 - accuracy: 0.6282 - val_loss: 0.7231 - val_accuracy: 0.5641\n",
      "Epoch 18/50\n",
      "5/5 [==============================] - 0s 13ms/step - loss: 0.6591 - accuracy: 0.6282 - val_loss: 0.7226 - val_accuracy: 0.5641\n",
      "Epoch 19/50\n",
      "5/5 [==============================] - 0s 13ms/step - loss: 0.6576 - accuracy: 0.6282 - val_loss: 0.7219 - val_accuracy: 0.5641\n",
      "Epoch 20/50\n",
      "5/5 [==============================] - 0s 13ms/step - loss: 0.6563 - accuracy: 0.6282 - val_loss: 0.7215 - val_accuracy: 0.5641\n",
      "Epoch 21/50\n",
      "5/5 [==============================] - 0s 13ms/step - loss: 0.6551 - accuracy: 0.6218 - val_loss: 0.7209 - val_accuracy: 0.5641\n",
      "Epoch 22/50\n",
      "5/5 [==============================] - 0s 11ms/step - loss: 0.6539 - accuracy: 0.6218 - val_loss: 0.7204 - val_accuracy: 0.5641\n",
      "Epoch 23/50\n",
      "5/5 [==============================] - 0s 11ms/step - loss: 0.6528 - accuracy: 0.6218 - val_loss: 0.7198 - val_accuracy: 0.5641\n",
      "Epoch 24/50\n",
      "5/5 [==============================] - 0s 12ms/step - loss: 0.6517 - accuracy: 0.6282 - val_loss: 0.7193 - val_accuracy: 0.5641\n",
      "Epoch 25/50\n",
      "5/5 [==============================] - 0s 10ms/step - loss: 0.6505 - accuracy: 0.6282 - val_loss: 0.7189 - val_accuracy: 0.5641\n",
      "Epoch 26/50\n",
      "5/5 [==============================] - 0s 10ms/step - loss: 0.6495 - accuracy: 0.6282 - val_loss: 0.7182 - val_accuracy: 0.5641\n",
      "Epoch 27/50\n",
      "5/5 [==============================] - 0s 11ms/step - loss: 0.6487 - accuracy: 0.6282 - val_loss: 0.7181 - val_accuracy: 0.5641\n",
      "Epoch 28/50\n",
      "5/5 [==============================] - 0s 11ms/step - loss: 0.6476 - accuracy: 0.6282 - val_loss: 0.7171 - val_accuracy: 0.5641\n",
      "Epoch 29/50\n",
      "5/5 [==============================] - 0s 13ms/step - loss: 0.6465 - accuracy: 0.6282 - val_loss: 0.7168 - val_accuracy: 0.5641\n",
      "Epoch 30/50\n",
      "5/5 [==============================] - 0s 15ms/step - loss: 0.6455 - accuracy: 0.6282 - val_loss: 0.7162 - val_accuracy: 0.5641\n",
      "Epoch 31/50\n",
      "5/5 [==============================] - 0s 14ms/step - loss: 0.6448 - accuracy: 0.6282 - val_loss: 0.7159 - val_accuracy: 0.5641\n",
      "Epoch 32/50\n",
      "5/5 [==============================] - 0s 13ms/step - loss: 0.6437 - accuracy: 0.6282 - val_loss: 0.7154 - val_accuracy: 0.5641\n",
      "Epoch 33/50\n",
      "5/5 [==============================] - 0s 13ms/step - loss: 0.6429 - accuracy: 0.6282 - val_loss: 0.7150 - val_accuracy: 0.5641\n",
      "Epoch 34/50\n",
      "5/5 [==============================] - 0s 12ms/step - loss: 0.6420 - accuracy: 0.6282 - val_loss: 0.7143 - val_accuracy: 0.5641\n",
      "Epoch 35/50\n",
      "5/5 [==============================] - 0s 13ms/step - loss: 0.6411 - accuracy: 0.6282 - val_loss: 0.7139 - val_accuracy: 0.5641\n",
      "Epoch 36/50\n",
      "5/5 [==============================] - 0s 13ms/step - loss: 0.6403 - accuracy: 0.6282 - val_loss: 0.7136 - val_accuracy: 0.5641\n",
      "Epoch 37/50\n",
      "5/5 [==============================] - 0s 12ms/step - loss: 0.6395 - accuracy: 0.6282 - val_loss: 0.7130 - val_accuracy: 0.5641\n",
      "Epoch 38/50\n",
      "5/5 [==============================] - 0s 12ms/step - loss: 0.6386 - accuracy: 0.6282 - val_loss: 0.7125 - val_accuracy: 0.5641\n",
      "Epoch 39/50\n",
      "5/5 [==============================] - 0s 11ms/step - loss: 0.6378 - accuracy: 0.6282 - val_loss: 0.7119 - val_accuracy: 0.5641\n",
      "Epoch 40/50\n",
      "5/5 [==============================] - 0s 10ms/step - loss: 0.6370 - accuracy: 0.6218 - val_loss: 0.7115 - val_accuracy: 0.5641\n",
      "Epoch 41/50\n",
      "5/5 [==============================] - 0s 12ms/step - loss: 0.6362 - accuracy: 0.6218 - val_loss: 0.7113 - val_accuracy: 0.5897\n",
      "Epoch 42/50\n",
      "5/5 [==============================] - 0s 13ms/step - loss: 0.6354 - accuracy: 0.6282 - val_loss: 0.7108 - val_accuracy: 0.5897\n",
      "Epoch 43/50\n",
      "5/5 [==============================] - 0s 12ms/step - loss: 0.6347 - accuracy: 0.6282 - val_loss: 0.7106 - val_accuracy: 0.5897\n",
      "Epoch 44/50\n",
      "5/5 [==============================] - 0s 10ms/step - loss: 0.6339 - accuracy: 0.6282 - val_loss: 0.7102 - val_accuracy: 0.5897\n",
      "Epoch 45/50\n",
      "5/5 [==============================] - 0s 9ms/step - loss: 0.6332 - accuracy: 0.6282 - val_loss: 0.7097 - val_accuracy: 0.5897\n",
      "Epoch 46/50\n",
      "5/5 [==============================] - 0s 11ms/step - loss: 0.6325 - accuracy: 0.6282 - val_loss: 0.7093 - val_accuracy: 0.5897\n",
      "Epoch 47/50\n",
      "5/5 [==============================] - 0s 11ms/step - loss: 0.6317 - accuracy: 0.6346 - val_loss: 0.7089 - val_accuracy: 0.5897\n",
      "Epoch 48/50\n",
      "5/5 [==============================] - 0s 11ms/step - loss: 0.6311 - accuracy: 0.6346 - val_loss: 0.7087 - val_accuracy: 0.5897\n",
      "Epoch 49/50\n",
      "5/5 [==============================] - 0s 11ms/step - loss: 0.6303 - accuracy: 0.6346 - val_loss: 0.7083 - val_accuracy: 0.5897\n",
      "Epoch 50/50\n",
      "5/5 [==============================] - 0s 12ms/step - loss: 0.6299 - accuracy: 0.6410 - val_loss: 0.7078 - val_accuracy: 0.5897\n"
     ]
    },
    {
     "data": {
      "text/plain": [
       "<keras.callbacks.History at 0x1d1ad22a2f0>"
      ]
     },
     "execution_count": 122,
     "metadata": {},
     "output_type": "execute_result"
    }
   ],
   "source": [
    "model.fit(X_train,y_train,epochs = 50, batch_size = 32,validation_split = 0.2)"
   ]
  },
  {
   "cell_type": "code",
   "execution_count": 123,
   "id": "262da4b1",
   "metadata": {},
   "outputs": [
    {
     "name": "stdout",
     "output_type": "stream",
     "text": [
      "2/2 [==============================] - 0s 6ms/step - loss: 0.6362 - accuracy: 0.6122\n"
     ]
    }
   ],
   "source": [
    "loss, accuracy = model.evaluate(X_test,y_test)"
   ]
  },
  {
   "cell_type": "code",
   "execution_count": 124,
   "id": "a98ac49e",
   "metadata": {},
   "outputs": [
    {
     "name": "stdout",
     "output_type": "stream",
     "text": [
      "Test accuracy 0.6122449040412903\n"
     ]
    }
   ],
   "source": [
    "print(\"Test accuracy\" , accuracy)"
   ]
  },
  {
   "cell_type": "code",
   "execution_count": null,
   "id": "f5c4e1e0",
   "metadata": {},
   "outputs": [],
   "source": []
  }
 ],
 "metadata": {
  "kernelspec": {
   "display_name": "Python 3 (ipykernel)",
   "language": "python",
   "name": "python3"
  },
  "language_info": {
   "codemirror_mode": {
    "name": "ipython",
    "version": 3
   },
   "file_extension": ".py",
   "mimetype": "text/x-python",
   "name": "python",
   "nbconvert_exporter": "python",
   "pygments_lexer": "ipython3",
   "version": "3.10.9"
  }
 },
 "nbformat": 4,
 "nbformat_minor": 5
}
