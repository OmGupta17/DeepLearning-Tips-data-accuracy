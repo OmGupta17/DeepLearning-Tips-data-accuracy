{
 "cells": [
  {
   "cell_type": "code",
   "execution_count": 40,
   "id": "1ce293cc",
   "metadata": {},
   "outputs": [],
   "source": [
    "import numpy as np\n",
    "import tensorflow as tf\n",
    "from tensorflow.keras.models import Sequential\n",
    "from tensorflow.keras.layers import Dense\n",
    "from sklearn.datasets import load_iris\n",
    "from sklearn.model_selection import train_test_split\n",
    "from sklearn.preprocessing import StandardScaler"
   ]
  },
  {
   "cell_type": "code",
   "execution_count": 41,
   "id": "8e6aba76",
   "metadata": {},
   "outputs": [],
   "source": [
    "data=load_iris()"
   ]
  },
  {
   "cell_type": "code",
   "execution_count": 42,
   "id": "4a628791",
   "metadata": {},
   "outputs": [],
   "source": [
    "X,y = data.data, data.target"
   ]
  },
  {
   "cell_type": "code",
   "execution_count": 43,
   "id": "8c4e57de",
   "metadata": {},
   "outputs": [],
   "source": [
    "X= X[y!=2]\n",
    "y = y[y!=2]\n"
   ]
  },
  {
   "cell_type": "code",
   "execution_count": 44,
   "id": "1d737e9e",
   "metadata": {},
   "outputs": [],
   "source": [
    "X_train, X_test,y_train,y_test=train_test_split(X,y,test_size =0.2, random_state = 42)"
   ]
  },
  {
   "cell_type": "code",
   "execution_count": 45,
   "id": "d55733d9",
   "metadata": {},
   "outputs": [],
   "source": [
    "scaler = StandardScaler()\n",
    "X_train = scaler.fit_transform(X_train)\n",
    "X_test = scaler.transform(X_test)"
   ]
  },
  {
   "cell_type": "code",
   "execution_count": 46,
   "id": "c728d0ac",
   "metadata": {},
   "outputs": [],
   "source": [
    "model = Sequential()"
   ]
  },
  {
   "cell_type": "code",
   "execution_count": 47,
   "id": "89d3c2ec",
   "metadata": {},
   "outputs": [],
   "source": [
    "model.add(Dense(1,input_shape=(X_train.shape[1],),activation = 'sigmoid'))"
   ]
  },
  {
   "cell_type": "code",
   "execution_count": 48,
   "id": "e2663ae3",
   "metadata": {},
   "outputs": [],
   "source": [
    "model.compile(optimizer = 'adam' , loss = 'binary_crossentropy', metrics = ['accuracy'])"
   ]
  },
  {
   "cell_type": "code",
   "execution_count": 49,
   "id": "05880b29",
   "metadata": {},
   "outputs": [
    {
     "name": "stdout",
     "output_type": "stream",
     "text": [
      "Epoch 1/100\n",
      "2/2 [==============================] - 1s 223ms/step - loss: 0.8230 - accuracy: 0.4375 - val_loss: 0.8719 - val_accuracy: 0.4375\n",
      "Epoch 2/100\n",
      "2/2 [==============================] - 0s 40ms/step - loss: 0.8194 - accuracy: 0.4531 - val_loss: 0.8680 - val_accuracy: 0.4375\n",
      "Epoch 3/100\n",
      "2/2 [==============================] - 0s 45ms/step - loss: 0.8157 - accuracy: 0.4531 - val_loss: 0.8642 - val_accuracy: 0.4375\n",
      "Epoch 4/100\n",
      "2/2 [==============================] - 0s 42ms/step - loss: 0.8123 - accuracy: 0.4688 - val_loss: 0.8603 - val_accuracy: 0.4375\n",
      "Epoch 5/100\n",
      "2/2 [==============================] - 0s 42ms/step - loss: 0.8089 - accuracy: 0.4688 - val_loss: 0.8566 - val_accuracy: 0.4375\n",
      "Epoch 6/100\n",
      "2/2 [==============================] - 0s 43ms/step - loss: 0.8053 - accuracy: 0.4688 - val_loss: 0.8528 - val_accuracy: 0.4375\n",
      "Epoch 7/100\n",
      "2/2 [==============================] - 0s 40ms/step - loss: 0.8019 - accuracy: 0.4844 - val_loss: 0.8491 - val_accuracy: 0.4375\n",
      "Epoch 8/100\n",
      "2/2 [==============================] - 0s 44ms/step - loss: 0.7983 - accuracy: 0.5000 - val_loss: 0.8453 - val_accuracy: 0.4375\n",
      "Epoch 9/100\n",
      "2/2 [==============================] - 0s 44ms/step - loss: 0.7949 - accuracy: 0.5156 - val_loss: 0.8416 - val_accuracy: 0.4375\n",
      "Epoch 10/100\n",
      "2/2 [==============================] - 0s 43ms/step - loss: 0.7914 - accuracy: 0.5156 - val_loss: 0.8379 - val_accuracy: 0.4375\n",
      "Epoch 11/100\n",
      "2/2 [==============================] - 0s 41ms/step - loss: 0.7881 - accuracy: 0.5156 - val_loss: 0.8342 - val_accuracy: 0.4375\n",
      "Epoch 12/100\n",
      "2/2 [==============================] - 0s 41ms/step - loss: 0.7846 - accuracy: 0.5156 - val_loss: 0.8305 - val_accuracy: 0.4375\n",
      "Epoch 13/100\n",
      "2/2 [==============================] - 0s 42ms/step - loss: 0.7812 - accuracy: 0.5156 - val_loss: 0.8269 - val_accuracy: 0.4375\n",
      "Epoch 14/100\n",
      "2/2 [==============================] - 0s 46ms/step - loss: 0.7778 - accuracy: 0.5156 - val_loss: 0.8232 - val_accuracy: 0.4375\n",
      "Epoch 15/100\n",
      "2/2 [==============================] - 0s 41ms/step - loss: 0.7744 - accuracy: 0.5156 - val_loss: 0.8196 - val_accuracy: 0.5000\n",
      "Epoch 16/100\n",
      "2/2 [==============================] - 0s 48ms/step - loss: 0.7710 - accuracy: 0.5312 - val_loss: 0.8160 - val_accuracy: 0.5000\n",
      "Epoch 17/100\n",
      "2/2 [==============================] - 0s 48ms/step - loss: 0.7677 - accuracy: 0.5312 - val_loss: 0.8123 - val_accuracy: 0.5000\n",
      "Epoch 18/100\n",
      "2/2 [==============================] - 0s 42ms/step - loss: 0.7644 - accuracy: 0.5312 - val_loss: 0.8088 - val_accuracy: 0.5000\n",
      "Epoch 19/100\n",
      "2/2 [==============================] - 0s 39ms/step - loss: 0.7610 - accuracy: 0.5312 - val_loss: 0.8052 - val_accuracy: 0.5000\n",
      "Epoch 20/100\n",
      "2/2 [==============================] - 0s 43ms/step - loss: 0.7577 - accuracy: 0.5312 - val_loss: 0.8016 - val_accuracy: 0.5000\n",
      "Epoch 21/100\n",
      "2/2 [==============================] - 0s 44ms/step - loss: 0.7545 - accuracy: 0.5625 - val_loss: 0.7981 - val_accuracy: 0.5000\n",
      "Epoch 22/100\n",
      "2/2 [==============================] - 0s 41ms/step - loss: 0.7511 - accuracy: 0.5625 - val_loss: 0.7945 - val_accuracy: 0.5000\n",
      "Epoch 23/100\n",
      "2/2 [==============================] - 0s 39ms/step - loss: 0.7479 - accuracy: 0.5625 - val_loss: 0.7910 - val_accuracy: 0.5000\n",
      "Epoch 24/100\n",
      "2/2 [==============================] - 0s 39ms/step - loss: 0.7447 - accuracy: 0.5781 - val_loss: 0.7875 - val_accuracy: 0.5000\n",
      "Epoch 25/100\n",
      "2/2 [==============================] - 0s 43ms/step - loss: 0.7414 - accuracy: 0.5781 - val_loss: 0.7840 - val_accuracy: 0.5000\n",
      "Epoch 26/100\n",
      "2/2 [==============================] - 0s 36ms/step - loss: 0.7382 - accuracy: 0.5781 - val_loss: 0.7806 - val_accuracy: 0.5000\n",
      "Epoch 27/100\n",
      "2/2 [==============================] - 0s 38ms/step - loss: 0.7350 - accuracy: 0.5781 - val_loss: 0.7771 - val_accuracy: 0.5000\n",
      "Epoch 28/100\n",
      "2/2 [==============================] - 0s 37ms/step - loss: 0.7318 - accuracy: 0.5781 - val_loss: 0.7736 - val_accuracy: 0.5000\n",
      "Epoch 29/100\n",
      "2/2 [==============================] - 0s 37ms/step - loss: 0.7287 - accuracy: 0.5781 - val_loss: 0.7702 - val_accuracy: 0.5000\n",
      "Epoch 30/100\n",
      "2/2 [==============================] - 0s 35ms/step - loss: 0.7254 - accuracy: 0.5781 - val_loss: 0.7668 - val_accuracy: 0.5000\n",
      "Epoch 31/100\n",
      "2/2 [==============================] - 0s 36ms/step - loss: 0.7223 - accuracy: 0.5781 - val_loss: 0.7634 - val_accuracy: 0.5000\n",
      "Epoch 32/100\n",
      "2/2 [==============================] - 0s 35ms/step - loss: 0.7191 - accuracy: 0.5781 - val_loss: 0.7600 - val_accuracy: 0.5000\n",
      "Epoch 33/100\n",
      "2/2 [==============================] - 0s 38ms/step - loss: 0.7161 - accuracy: 0.5781 - val_loss: 0.7567 - val_accuracy: 0.5000\n",
      "Epoch 34/100\n",
      "2/2 [==============================] - 0s 36ms/step - loss: 0.7130 - accuracy: 0.5781 - val_loss: 0.7533 - val_accuracy: 0.5000\n",
      "Epoch 35/100\n",
      "2/2 [==============================] - 0s 44ms/step - loss: 0.7099 - accuracy: 0.5938 - val_loss: 0.7499 - val_accuracy: 0.5000\n",
      "Epoch 36/100\n",
      "2/2 [==============================] - 0s 44ms/step - loss: 0.7067 - accuracy: 0.5938 - val_loss: 0.7466 - val_accuracy: 0.5000\n",
      "Epoch 37/100\n",
      "2/2 [==============================] - 0s 45ms/step - loss: 0.7037 - accuracy: 0.5938 - val_loss: 0.7433 - val_accuracy: 0.5000\n",
      "Epoch 38/100\n",
      "2/2 [==============================] - 0s 41ms/step - loss: 0.7007 - accuracy: 0.5938 - val_loss: 0.7400 - val_accuracy: 0.5000\n",
      "Epoch 39/100\n",
      "2/2 [==============================] - 0s 39ms/step - loss: 0.6977 - accuracy: 0.5938 - val_loss: 0.7367 - val_accuracy: 0.5000\n",
      "Epoch 40/100\n",
      "2/2 [==============================] - 0s 40ms/step - loss: 0.6946 - accuracy: 0.5938 - val_loss: 0.7335 - val_accuracy: 0.5000\n",
      "Epoch 41/100\n",
      "2/2 [==============================] - 0s 39ms/step - loss: 0.6916 - accuracy: 0.5938 - val_loss: 0.7302 - val_accuracy: 0.5000\n",
      "Epoch 42/100\n",
      "2/2 [==============================] - 0s 43ms/step - loss: 0.6886 - accuracy: 0.5938 - val_loss: 0.7270 - val_accuracy: 0.5000\n",
      "Epoch 43/100\n",
      "2/2 [==============================] - 0s 41ms/step - loss: 0.6856 - accuracy: 0.5938 - val_loss: 0.7237 - val_accuracy: 0.5000\n",
      "Epoch 44/100\n",
      "2/2 [==============================] - 0s 41ms/step - loss: 0.6827 - accuracy: 0.5938 - val_loss: 0.7205 - val_accuracy: 0.5000\n",
      "Epoch 45/100\n",
      "2/2 [==============================] - 0s 44ms/step - loss: 0.6797 - accuracy: 0.5938 - val_loss: 0.7173 - val_accuracy: 0.5000\n",
      "Epoch 46/100\n",
      "2/2 [==============================] - 0s 44ms/step - loss: 0.6767 - accuracy: 0.5938 - val_loss: 0.7142 - val_accuracy: 0.5000\n",
      "Epoch 47/100\n",
      "2/2 [==============================] - 0s 38ms/step - loss: 0.6738 - accuracy: 0.6094 - val_loss: 0.7110 - val_accuracy: 0.5000\n",
      "Epoch 48/100\n",
      "2/2 [==============================] - 0s 40ms/step - loss: 0.6709 - accuracy: 0.6094 - val_loss: 0.7078 - val_accuracy: 0.5000\n",
      "Epoch 49/100\n",
      "2/2 [==============================] - 0s 43ms/step - loss: 0.6680 - accuracy: 0.6094 - val_loss: 0.7047 - val_accuracy: 0.5000\n",
      "Epoch 50/100\n",
      "2/2 [==============================] - 0s 36ms/step - loss: 0.6651 - accuracy: 0.6094 - val_loss: 0.7016 - val_accuracy: 0.5000\n",
      "Epoch 51/100\n",
      "2/2 [==============================] - 0s 38ms/step - loss: 0.6623 - accuracy: 0.6250 - val_loss: 0.6984 - val_accuracy: 0.5000\n",
      "Epoch 52/100\n",
      "2/2 [==============================] - 0s 39ms/step - loss: 0.6594 - accuracy: 0.6250 - val_loss: 0.6953 - val_accuracy: 0.5000\n",
      "Epoch 53/100\n",
      "2/2 [==============================] - 0s 39ms/step - loss: 0.6566 - accuracy: 0.6250 - val_loss: 0.6922 - val_accuracy: 0.5000\n",
      "Epoch 54/100\n",
      "2/2 [==============================] - 0s 39ms/step - loss: 0.6538 - accuracy: 0.6250 - val_loss: 0.6892 - val_accuracy: 0.5000\n",
      "Epoch 55/100\n",
      "2/2 [==============================] - 0s 36ms/step - loss: 0.6510 - accuracy: 0.6406 - val_loss: 0.6861 - val_accuracy: 0.5000\n",
      "Epoch 56/100\n",
      "2/2 [==============================] - 0s 34ms/step - loss: 0.6481 - accuracy: 0.6406 - val_loss: 0.6830 - val_accuracy: 0.5000\n",
      "Epoch 57/100\n",
      "2/2 [==============================] - 0s 35ms/step - loss: 0.6454 - accuracy: 0.6406 - val_loss: 0.6800 - val_accuracy: 0.5000\n",
      "Epoch 58/100\n",
      "2/2 [==============================] - 0s 33ms/step - loss: 0.6425 - accuracy: 0.6406 - val_loss: 0.6770 - val_accuracy: 0.5000\n",
      "Epoch 59/100\n",
      "2/2 [==============================] - 0s 36ms/step - loss: 0.6398 - accuracy: 0.6406 - val_loss: 0.6739 - val_accuracy: 0.5000\n",
      "Epoch 60/100\n",
      "2/2 [==============================] - 0s 38ms/step - loss: 0.6370 - accuracy: 0.6562 - val_loss: 0.6710 - val_accuracy: 0.5000\n",
      "Epoch 61/100\n",
      "2/2 [==============================] - 0s 43ms/step - loss: 0.6343 - accuracy: 0.6719 - val_loss: 0.6680 - val_accuracy: 0.5000\n",
      "Epoch 62/100\n",
      "2/2 [==============================] - 0s 43ms/step - loss: 0.6316 - accuracy: 0.6719 - val_loss: 0.6650 - val_accuracy: 0.5000\n",
      "Epoch 63/100\n",
      "2/2 [==============================] - 0s 36ms/step - loss: 0.6289 - accuracy: 0.6719 - val_loss: 0.6620 - val_accuracy: 0.5000\n",
      "Epoch 64/100\n",
      "2/2 [==============================] - 0s 40ms/step - loss: 0.6263 - accuracy: 0.6719 - val_loss: 0.6591 - val_accuracy: 0.5625\n",
      "Epoch 65/100\n",
      "2/2 [==============================] - 0s 36ms/step - loss: 0.6236 - accuracy: 0.6719 - val_loss: 0.6562 - val_accuracy: 0.5625\n",
      "Epoch 66/100\n",
      "2/2 [==============================] - 0s 32ms/step - loss: 0.6208 - accuracy: 0.6719 - val_loss: 0.6533 - val_accuracy: 0.5625\n",
      "Epoch 67/100\n",
      "2/2 [==============================] - 0s 33ms/step - loss: 0.6182 - accuracy: 0.6719 - val_loss: 0.6504 - val_accuracy: 0.5625\n",
      "Epoch 68/100\n",
      "2/2 [==============================] - 0s 34ms/step - loss: 0.6155 - accuracy: 0.6719 - val_loss: 0.6475 - val_accuracy: 0.5625\n",
      "Epoch 69/100\n",
      "2/2 [==============================] - 0s 34ms/step - loss: 0.6129 - accuracy: 0.6875 - val_loss: 0.6446 - val_accuracy: 0.5625\n",
      "Epoch 70/100\n",
      "2/2 [==============================] - 0s 37ms/step - loss: 0.6104 - accuracy: 0.6875 - val_loss: 0.6418 - val_accuracy: 0.5625\n",
      "Epoch 71/100\n",
      "2/2 [==============================] - 0s 36ms/step - loss: 0.6077 - accuracy: 0.6875 - val_loss: 0.6389 - val_accuracy: 0.5625\n",
      "Epoch 72/100\n",
      "2/2 [==============================] - 0s 37ms/step - loss: 0.6051 - accuracy: 0.6875 - val_loss: 0.6360 - val_accuracy: 0.5625\n",
      "Epoch 73/100\n",
      "2/2 [==============================] - 0s 40ms/step - loss: 0.6025 - accuracy: 0.6875 - val_loss: 0.6332 - val_accuracy: 0.5625\n",
      "Epoch 74/100\n",
      "2/2 [==============================] - 0s 36ms/step - loss: 0.6000 - accuracy: 0.6875 - val_loss: 0.6304 - val_accuracy: 0.5625\n",
      "Epoch 75/100\n",
      "2/2 [==============================] - 0s 31ms/step - loss: 0.5974 - accuracy: 0.7031 - val_loss: 0.6276 - val_accuracy: 0.5625\n",
      "Epoch 76/100\n",
      "2/2 [==============================] - 0s 35ms/step - loss: 0.5948 - accuracy: 0.7031 - val_loss: 0.6248 - val_accuracy: 0.5625\n",
      "Epoch 77/100\n",
      "2/2 [==============================] - 0s 35ms/step - loss: 0.5924 - accuracy: 0.7031 - val_loss: 0.6220 - val_accuracy: 0.5625\n",
      "Epoch 78/100\n",
      "2/2 [==============================] - 0s 34ms/step - loss: 0.5899 - accuracy: 0.7031 - val_loss: 0.6192 - val_accuracy: 0.5625\n",
      "Epoch 79/100\n",
      "2/2 [==============================] - 0s 34ms/step - loss: 0.5873 - accuracy: 0.7031 - val_loss: 0.6165 - val_accuracy: 0.5625\n",
      "Epoch 80/100\n",
      "2/2 [==============================] - 0s 37ms/step - loss: 0.5848 - accuracy: 0.7031 - val_loss: 0.6138 - val_accuracy: 0.5625\n",
      "Epoch 81/100\n",
      "2/2 [==============================] - 0s 37ms/step - loss: 0.5823 - accuracy: 0.7031 - val_loss: 0.6111 - val_accuracy: 0.5625\n",
      "Epoch 82/100\n",
      "2/2 [==============================] - 0s 33ms/step - loss: 0.5799 - accuracy: 0.7031 - val_loss: 0.6084 - val_accuracy: 0.5625\n",
      "Epoch 83/100\n",
      "2/2 [==============================] - 0s 41ms/step - loss: 0.5774 - accuracy: 0.7031 - val_loss: 0.6057 - val_accuracy: 0.5625\n",
      "Epoch 84/100\n",
      "2/2 [==============================] - 0s 42ms/step - loss: 0.5750 - accuracy: 0.7031 - val_loss: 0.6030 - val_accuracy: 0.5625\n",
      "Epoch 85/100\n",
      "2/2 [==============================] - 0s 43ms/step - loss: 0.5725 - accuracy: 0.7031 - val_loss: 0.6003 - val_accuracy: 0.5625\n",
      "Epoch 86/100\n",
      "2/2 [==============================] - 0s 40ms/step - loss: 0.5701 - accuracy: 0.7031 - val_loss: 0.5977 - val_accuracy: 0.6250\n",
      "Epoch 87/100\n",
      "2/2 [==============================] - 0s 36ms/step - loss: 0.5678 - accuracy: 0.7031 - val_loss: 0.5950 - val_accuracy: 0.6250\n",
      "Epoch 88/100\n",
      "2/2 [==============================] - 0s 45ms/step - loss: 0.5653 - accuracy: 0.7031 - val_loss: 0.5924 - val_accuracy: 0.6250\n",
      "Epoch 89/100\n",
      "2/2 [==============================] - 0s 43ms/step - loss: 0.5629 - accuracy: 0.7031 - val_loss: 0.5898 - val_accuracy: 0.6250\n",
      "Epoch 90/100\n",
      "2/2 [==============================] - 0s 42ms/step - loss: 0.5606 - accuracy: 0.7188 - val_loss: 0.5872 - val_accuracy: 0.6250\n",
      "Epoch 91/100\n",
      "2/2 [==============================] - 0s 42ms/step - loss: 0.5582 - accuracy: 0.7188 - val_loss: 0.5846 - val_accuracy: 0.6250\n",
      "Epoch 92/100\n",
      "2/2 [==============================] - 0s 50ms/step - loss: 0.5559 - accuracy: 0.7188 - val_loss: 0.5820 - val_accuracy: 0.6875\n",
      "Epoch 93/100\n",
      "2/2 [==============================] - 0s 42ms/step - loss: 0.5536 - accuracy: 0.7188 - val_loss: 0.5794 - val_accuracy: 0.6875\n",
      "Epoch 94/100\n",
      "2/2 [==============================] - 0s 44ms/step - loss: 0.5512 - accuracy: 0.7344 - val_loss: 0.5769 - val_accuracy: 0.6875\n",
      "Epoch 95/100\n",
      "2/2 [==============================] - 0s 44ms/step - loss: 0.5488 - accuracy: 0.7344 - val_loss: 0.5743 - val_accuracy: 0.6875\n",
      "Epoch 96/100\n",
      "2/2 [==============================] - 0s 46ms/step - loss: 0.5466 - accuracy: 0.7344 - val_loss: 0.5718 - val_accuracy: 0.6875\n",
      "Epoch 97/100\n",
      "2/2 [==============================] - 0s 43ms/step - loss: 0.5443 - accuracy: 0.7344 - val_loss: 0.5692 - val_accuracy: 0.6875\n",
      "Epoch 98/100\n",
      "2/2 [==============================] - 0s 46ms/step - loss: 0.5420 - accuracy: 0.7344 - val_loss: 0.5667 - val_accuracy: 0.6875\n",
      "Epoch 99/100\n",
      "2/2 [==============================] - 0s 44ms/step - loss: 0.5398 - accuracy: 0.7656 - val_loss: 0.5642 - val_accuracy: 0.6875\n",
      "Epoch 100/100\n",
      "2/2 [==============================] - 0s 42ms/step - loss: 0.5374 - accuracy: 0.7656 - val_loss: 0.5617 - val_accuracy: 0.6875\n"
     ]
    },
    {
     "data": {
      "text/plain": [
       "<keras.callbacks.History at 0x15998b998d0>"
      ]
     },
     "execution_count": 49,
     "metadata": {},
     "output_type": "execute_result"
    }
   ],
   "source": [
    "model.fit(X_train,y_train,epochs = 100, batch_size = 32,validation_split = 0.2)"
   ]
  },
  {
   "cell_type": "markdown",
   "id": "beae09ea",
   "metadata": {},
   "source": [
    "loss, accuracy = model.evaluate(X_test,y_test)"
   ]
  },
  {
   "cell_type": "code",
   "execution_count": 50,
   "id": "1e3198a8",
   "metadata": {},
   "outputs": [
    {
     "name": "stdout",
     "output_type": "stream",
     "text": [
      "1/1 [==============================] - 0s 38ms/step - loss: 0.4517 - accuracy: 0.7500\n"
     ]
    }
   ],
   "source": [
    "loss, accuracy = model.evaluate(X_test,y_test)"
   ]
  },
  {
   "cell_type": "code",
   "execution_count": 51,
   "id": "97331418",
   "metadata": {},
   "outputs": [
    {
     "name": "stdout",
     "output_type": "stream",
     "text": [
      "Test accuracy 0.75\n"
     ]
    }
   ],
   "source": [
    "print(\"Test accuracy\" , accuracy)"
   ]
  },
  {
   "cell_type": "code",
   "execution_count": null,
   "id": "c4b692e7",
   "metadata": {},
   "outputs": [],
   "source": []
  },
  {
   "cell_type": "code",
   "execution_count": null,
   "id": "c49c9c50",
   "metadata": {},
   "outputs": [],
   "source": []
  }
 ],
 "metadata": {
  "kernelspec": {
   "display_name": "Python 3 (ipykernel)",
   "language": "python",
   "name": "python3"
  },
  "language_info": {
   "codemirror_mode": {
    "name": "ipython",
    "version": 3
   },
   "file_extension": ".py",
   "mimetype": "text/x-python",
   "name": "python",
   "nbconvert_exporter": "python",
   "pygments_lexer": "ipython3",
   "version": "3.10.9"
  }
 },
 "nbformat": 4,
 "nbformat_minor": 5
}
